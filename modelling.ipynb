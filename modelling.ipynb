{
  "nbformat": 4,
  "nbformat_minor": 0,
  "metadata": {
    "colab": {
      "name": "modelling.ipynb",
      "provenance": [],
      "collapsed_sections": [],
      "include_colab_link": true
    },
    "kernelspec": {
      "name": "python3",
      "display_name": "Python 3"
    }
  },
  "cells": [
    {
      "cell_type": "markdown",
      "metadata": {
        "id": "view-in-github",
        "colab_type": "text"
      },
      "source": [
        "<a href=\"https://colab.research.google.com/github/v-spitsyn/Avito_rent/blob/master/modelling.ipynb\" target=\"_parent\"><img src=\"https://colab.research.google.com/assets/colab-badge.svg\" alt=\"Open In Colab\"/></a>"
      ]
    },
    {
      "cell_type": "markdown",
      "metadata": {
        "id": "iK6p0GM7V5-N",
        "colab_type": "text"
      },
      "source": [
        "The notebook describes building a model for forecasting rent prices of residential flats in Moscow. Two algorithms that were tried are linear regression and random forest."
      ]
    },
    {
      "cell_type": "code",
      "metadata": {
        "id": "e7vJliFZMG5d",
        "colab_type": "code",
        "colab": {}
      },
      "source": [
        "import pickle\n",
        "import pandas as pd\n",
        "import numpy as np\n",
        "import matplotlib.pyplot as plt\n",
        "import seaborn as sb\n",
        "import warnings\n",
        "from sklearn.model_selection import train_test_split\n",
        "from sklearn.ensemble import RandomForestRegressor\n",
        "from sklearn.model_selection import GridSearchCV\n",
        "from sklearn.metrics import mean_absolute_error as mae\n",
        "import statsmodels.api as sm\n",
        "warnings.filterwarnings(\"ignore\")"
      ],
      "execution_count": 0,
      "outputs": []
    },
    {
      "cell_type": "code",
      "metadata": {
        "id": "GaUhyDpbOt3J",
        "colab_type": "code",
        "outputId": "f5109c94-e24b-432c-f49a-0e73aaec9df3",
        "colab": {
          "base_uri": "https://localhost:8080/",
          "height": 34
        }
      },
      "source": [
        "from google.colab import drive\n",
        "drive.mount('/content/gdrive')\n",
        "with open('/content/gdrive/My Drive/clean_df', 'rb') as f:\n",
        "    df = pickle.load(f)"
      ],
      "execution_count": 164,
      "outputs": [
        {
          "output_type": "stream",
          "text": [
            "Drive already mounted at /content/gdrive; to attempt to forcibly remount, call drive.mount(\"/content/gdrive\", force_remount=True).\n"
          ],
          "name": "stdout"
        }
      ]
    },
    {
      "cell_type": "markdown",
      "metadata": {
        "id": "THpsIWs50YtJ",
        "colab_type": "text"
      },
      "source": [
        "# Data"
      ]
    },
    {
      "cell_type": "markdown",
      "metadata": {
        "id": "K7KTWwg8O4XW",
        "colab_type": "text"
      },
      "source": [
        "Every row in the dataframe corresponds to a flat. Below is description of the columns the dataframe contains. Units of measurement are given in square brackets. *Rent* is the target variable.\n",
        "\n",
        "* *rent* (continuous) - rental cost of the flat [thousands of roubles]\n",
        "* *area* (continuous) - area of the flat [square metres]\n",
        "* *1st_floor* (binary) - 1 if the flat is on the first floor, 0 otherwise\n",
        "* *last_floor* (binary) - 1 if the flat is on the last floor, 0 otherwise\n",
        "* *studio* (binary) - 1 if the flat is a studio, 0 otherwise\n",
        "* *station_dist* (continuous) - distance to the closest underground station [hundreds of metres]\n",
        "* *center_dist* (continuous) - distance to Kilometre Zero (which is near Red Square) [kilometres]\n",
        "* *circle* (binary) - 1 if the closest underground station is on the circle line, 0 otherwise\n",
        "* *house_type* (categorical) - type of the house: block, brick, monolithic or panel\n",
        "* *landlord* (categorical) - name of the company/person that rents out the flat\n",
        "* *landlord_type* (categorical) - type of the landlord: owner, agency or developer\n",
        "* *commission* (continuous) - commission charged by the landlord (0 if there is no commission) [percentage of the rental cost]\n",
        "* *deposit* (continuous) - deposit charged by the landlord (0 if there is no deposit) [percentage of the rental cost]\n",
        "* *fridge* (binary) - 1 if there is a fridge in the flat, 0 otherwise\n",
        "* *ac* (binary) - 1 if there is air-conditioner in the flat, 0 otherwise\n",
        "* *balcony* (binary) - 1 if there is a balcony/loggia in  the flat, 0 otherwise\n",
        "* *microwave* (binary) - 1 if there is a microwave oven in the flat, 0 otherwise\n",
        "* *parking* (binary) - 1 if a parking lot is rented along with the flat, 0 otherwise\n",
        "*  *stove*  (binary) - 1 if there is a stove in  the flat, 0 otherwise\n",
        "* *tv* (binary) - 1 if there is a tv set in  the flat, 0 otherwise\n",
        "* *wash_machine* (binary) - 1 if there is a washing machine in  the flat, 0 otherwise\n",
        "* *wifi* (binary) - 1 if there is Wi-Fi in the flat, 0 otherwise\n",
        "\n",
        "\n"
      ]
    },
    {
      "cell_type": "markdown",
      "metadata": {
        "id": "TllgtoolmxMj",
        "colab_type": "text"
      },
      "source": [
        "There are about 2.5 thousand observations in the dataset."
      ]
    },
    {
      "cell_type": "code",
      "metadata": {
        "id": "yzmC8fbJsm78",
        "colab_type": "code",
        "colab": {
          "base_uri": "https://localhost:8080/",
          "height": 34
        },
        "outputId": "d5f178df-9c3c-4c9a-a5c9-d2a4f7078cc1"
      },
      "source": [
        "df.shape"
      ],
      "execution_count": 114,
      "outputs": [
        {
          "output_type": "execute_result",
          "data": {
            "text/plain": [
              "(2523, 22)"
            ]
          },
          "metadata": {
            "tags": []
          },
          "execution_count": 114
        }
      ]
    },
    {
      "cell_type": "markdown",
      "metadata": {
        "id": "pzJGCR2B0j_X",
        "colab_type": "text"
      },
      "source": [
        "# Exploratory data analysis"
      ]
    },
    {
      "cell_type": "markdown",
      "metadata": {
        "id": "6oyDVL8ZpFaP",
        "colab_type": "text"
      },
      "source": [
        "The boxplots below show that the median rent price is 36 thousand for flats from agencies and owners and 40 thousand for flats offered by developers. The boxplot of rent per square metre permits to see the differences between distributions better."
      ]
    },
    {
      "cell_type": "code",
      "metadata": {
        "id": "e9oyZdEHRWQK",
        "colab_type": "code",
        "colab": {
          "base_uri": "https://localhost:8080/",
          "height": 388
        },
        "outputId": "b642dba7-f949-4e03-cc8f-9a04d4bbb9b8"
      },
      "source": [
        "plt.figure(figsize=(12, 6))\n",
        "plt.subplot(1, 2, 1)\n",
        "sb.boxplot(x='landlord_type', y='rent', data=df)\n",
        "plt.subplot(1, 2, 2)\n",
        "sb.boxplot(x='landlord_type', y=df['rent']/df['area'], data=df)\n",
        "plt.ylabel('Rent per square meter')\n",
        "plt.show()"
      ],
      "execution_count": 165,
      "outputs": [
        {
          "output_type": "display_data",
          "data": {
            "image/png": "[encoded data removed]",
            "text/plain": [
              "<Figure size 864x432 with 2 Axes>"
            ]
          },
          "metadata": {
            "tags": []
          }
        }
      ]
    },
    {
      "cell_type": "code",
      "metadata": {
        "id": "36NOoWCrpjdF",
        "colab_type": "code",
        "colab": {
          "base_uri": "https://localhost:8080/",
          "height": 105
        },
        "outputId": "34f1e3a4-4f06-493d-983d-6020375708eb"
      },
      "source": [
        "df.groupby('landlord_type').median()['rent']"
      ],
      "execution_count": 166,
      "outputs": [
        {
          "output_type": "execute_result",
          "data": {
            "text/plain": [
              "landlord_type\n",
              "agency       36.00\n",
              "developer    40.15\n",
              "owner        36.00\n",
              "Name: rent, dtype: float64"
            ]
          },
          "metadata": {
            "tags": []
          },
          "execution_count": 166
        }
      ]
    },
    {
      "cell_type": "markdown",
      "metadata": {
        "id": "JphOrZW-q9fy",
        "colab_type": "text"
      },
      "source": [
        "The histogram of *commission* shows that 0%, 50% and 100% are by far the most popular options. The scatterplot of *rent* vs *commission* does not allow to find any relationship between the variables (although for all flats with rent cost above 150 thousand commission was zero, so they are not depicted on the plot). The reason might be that size of commission is  tied to a particular agency rather than rental cost of the flat."
      ]
    },
    {
      "cell_type": "code",
      "metadata": {
        "id": "SnTb5FOhRWFx",
        "colab_type": "code",
        "colab": {
          "base_uri": "https://localhost:8080/",
          "height": 278
        },
        "outputId": "40583711-3276-45ea-b57e-8afaed7abf29"
      },
      "source": [
        "plt.figure(figsize=(12, 4))\n",
        "plt.subplot(1, 2, 1)\n",
        "plt.hist(df.loc[df['landlord_type'] != 'landlord', 'commission'], bins=20)\n",
        "plt.xlabel('commission, %')\n",
        "plt.ylabel('frequency')\n",
        "plt.subplot(1, 2, 2)\n",
        "sb.scatterplot('rent', 'commission', data=df[df['rent']<150])\n",
        "plt.ylabel('commission, %')\n",
        "plt.show()"
      ],
      "execution_count": 167,
      "outputs": [
        {
          "output_type": "display_data",
          "data": {
            "image/png": "[encoded data removed]",
            "text/plain": [
              "<Figure size 864x288 with 2 Axes>"
            ]
          },
          "metadata": {
            "tags": []
          }
        }
      ]
    },
    {
      "cell_type": "markdown",
      "metadata": {
        "id": "FS0chhgvt1zT",
        "colab_type": "text"
      },
      "source": [
        "Now we try to find out if there is a dependency between commissions agencies charge and rental cost of flats they offer. First, we select agencies that rent out at least 6 apartments at the moment. Then for every such agency we find the average rent price of its flats and the average commision the agency takes. "
      ]
    },
    {
      "cell_type": "code",
      "metadata": {
        "id": "JO6vIAahRV-S",
        "colab_type": "code",
        "colab": {}
      },
      "source": [
        "largest_landlords = (df[df['landlord_type'] != 'owner']\n",
        "                    .groupby('landlord')\n",
        "                    .count()\n",
        "                    .query('rent >= 6')\n",
        "                    .sort_values('rent', ascending=False)\n",
        "                    .index)\n",
        "landlords_by_rent = (df[df['landlord'].isin(largest_landlords)]\n",
        "                    .groupby('landlord')\n",
        "                    .mean()['rent'])\n",
        "landlords_by_commission = (df[df['landlord'].isin(largest_landlords)]\n",
        "                        .groupby('landlord')\n",
        "                        .mean()['commission'])"
      ],
      "execution_count": 0,
      "outputs": []
    },
    {
      "cell_type": "markdown",
      "metadata": {
        "id": "Wlt8Mwq9ONiC",
        "colab_type": "text"
      },
      "source": [
        "The only pattern we can see from the scatterplot below is that agencies with average rental cost below 35 thousand tend to charge slightly higher commissions (in % of the rent). Number of agencies with the average rent price above 50 thousand is quite small and agencies that take zero commission present only in that price segment."
      ]
    },
    {
      "cell_type": "code",
      "metadata": {
        "id": "DzG4ZmrCRV3c",
        "colab_type": "code",
        "colab": {
          "base_uri": "https://localhost:8080/",
          "height": 310
        },
        "outputId": "2b362269-3e46-431b-f892-3062a3beab75"
      },
      "source": [
        "sb.scatterplot('rent', 'commission', \n",
        "               data=pd.merge(landlords_by_rent, \n",
        "                             landlords_by_commission, \n",
        "                             on='landlord')\n",
        "               )\n",
        "plt.xlabel('Average rent')\n",
        "plt.ylabel('Average commission, %')\n",
        "plt.title('Average commission vs average rent \\n among agencies with at least 6 offers')\n",
        "plt.show()"
      ],
      "execution_count": 169,
      "outputs": [
        {
          "output_type": "display_data",
          "data": {
            "image/png": "[encoded data removed]",
            "text/plain": [
              "<Figure size 432x288 with 1 Axes>"
            ]
          },
          "metadata": {
            "tags": []
          }
        }
      ]
    },
    {
      "cell_type": "markdown",
      "metadata": {
        "id": "9xprFkNDciLy",
        "colab_type": "text"
      },
      "source": [
        "The following picture shows that there is a very narrow range of values that deposit can take: it may be 0, 50, 100, 150, 200 or 300 percent of the rent. 100% is the most frequent value while deposits greater than 100% are extremely rare."
      ]
    },
    {
      "cell_type": "code",
      "metadata": {
        "id": "9AHv9qc6RVlY",
        "colab_type": "code",
        "colab": {
          "base_uri": "https://localhost:8080/",
          "height": 278
        },
        "outputId": "2c67b8d8-075c-4b4f-b1bc-be389e48b1f8"
      },
      "source": [
        "sb.countplot(x='deposit', data=df)\n",
        "plt.show()"
      ],
      "execution_count": 120,
      "outputs": [
        {
          "output_type": "display_data",
          "data": {
            "image/png": "[encoded data removed]",
            "text/plain": [
              "<Figure size 432x288 with 1 Axes>"
            ]
          },
          "metadata": {
            "tags": []
          }
        }
      ]
    },
    {
      "cell_type": "markdown",
      "metadata": {
        "id": "-qzGOCRPd1Vm",
        "colab_type": "text"
      },
      "source": [
        "Some more statistics on commissions and deposits:"
      ]
    },
    {
      "cell_type": "code",
      "metadata": {
        "id": "6ZeWiBKCZ6VP",
        "colab_type": "code",
        "colab": {
          "base_uri": "https://localhost:8080/",
          "height": 52
        },
        "outputId": "1c5a7876-b1d9-47dc-f615-e5c0e684f661"
      },
      "source": [
        "zero_commission = df[(df['commission']==0) & (df['landlord_type'] != 'owner')]\n",
        "print('Number of agent offers with zero commission: {} ({}%)'\n",
        "    .format(zero_commission.shape[0], \n",
        "            round(zero_commission.shape[0]/df[df['landlord_type'] != 'owner'].shape[0]*100, \n",
        "                  2)\n",
        "            )\n",
        ")\n",
        "print('Number of offers with 100% deposit: {} ({}%)'\n",
        "    .format(df[df['deposit']==100].shape[0], \n",
        "            round(df[df['deposit']==100].shape[0]/df.shape[0]*100, 2)\n",
        "            )\n",
        "    )"
      ],
      "execution_count": 121,
      "outputs": [
        {
          "output_type": "stream",
          "text": [
            "Number of agent offers with zero commission: 220 (13.41%)\n",
            "Number of offers with 100% deposit: 2108 (83.55%)\n"
          ],
          "name": "stdout"
        }
      ]
    },
    {
      "cell_type": "code",
      "metadata": {
        "id": "LByOheShmkMi",
        "colab_type": "code",
        "colab": {}
      },
      "source": [
        "#droping the columns we will not need any more\n",
        "df.drop(['landlord', 'commission', 'deposit'], axis=1, inplace=True)"
      ],
      "execution_count": 0,
      "outputs": []
    },
    {
      "cell_type": "markdown",
      "metadata": {
        "id": "5_6RPaJXfaVx",
        "colab_type": "text"
      },
      "source": [
        "It is necessary to get rid of observations that are in some sense extreme. To do it we will observe the distributions of rent prices, areas of flats and distances to the closest station. Flats with rental cost above 90 thousand are rare and their price to a large extent is explained by factors that are not present in our dataset. The number of flats that have area greater than 60 square metres or are farther than 3 kilometres away from an underground station is also small. After removing such flats there is about 2.3 thousand observations left. "
      ]
    },
    {
      "cell_type": "code",
      "metadata": {
        "id": "PTvJoIEHaKLo",
        "colab_type": "code",
        "colab": {
          "base_uri": "https://localhost:8080/",
          "height": 280
        },
        "outputId": "487e53cb-b4df-4e8c-caa7-ac7f8318a184"
      },
      "source": [
        "plt.figure(figsize=(12, 4))\n",
        "plt.subplot(1, 3, 1)\n",
        "df['rent'].hist(bins=30)\n",
        "plt.xlabel('rent')\n",
        "plt.ylabel('frequency')\n",
        "plt.subplot(1, 3, 2)\n",
        "df['area'].hist(bins=30)\n",
        "plt.xlabel('area')\n",
        "plt.subplot(1, 3, 3)\n",
        "df['station_dist'].hist(bins=30)\n",
        "plt.xlabel('station_dist')\n",
        "plt.show()"
      ],
      "execution_count": 123,
      "outputs": [
        {
          "output_type": "display_data",
          "data": {
            "image/png": "[encoded data removed]",
            "text/plain": [
              "<Figure size 864x288 with 3 Axes>"
            ]
          },
          "metadata": {
            "tags": []
          }
        }
      ]
    },
    {
      "cell_type": "code",
      "metadata": {
        "id": "xM9lAsyt-TB-",
        "colab_type": "code",
        "colab": {}
      },
      "source": [
        "df.drop(df[df['rent'] > 90].index, inplace=True)\n",
        "df.drop(df[df['area'] > 60].index, inplace=True)\n",
        "df.drop(df[df['station_dist'] > 30].index, inplace=True)"
      ],
      "execution_count": 0,
      "outputs": []
    },
    {
      "cell_type": "code",
      "metadata": {
        "id": "MqfY9zg1mKUW",
        "colab_type": "code",
        "colab": {
          "base_uri": "https://localhost:8080/",
          "height": 34
        },
        "outputId": "4a607dc0-5647-477a-fa91-c1ac98cb0a5f"
      },
      "source": [
        "df.shape"
      ],
      "execution_count": 125,
      "outputs": [
        {
          "output_type": "execute_result",
          "data": {
            "text/plain": [
              "(2325, 19)"
            ]
          },
          "metadata": {
            "tags": []
          },
          "execution_count": 125
        }
      ]
    },
    {
      "cell_type": "markdown",
      "metadata": {
        "id": "srpDazbnonnM",
        "colab_type": "text"
      },
      "source": [
        "\n",
        "\n",
        "\n",
        "We will use two algorithms for fitting: linear regression and random forest. Mean absolute error (MAE) and mean absolute percentage error (MAPE) will be used as quality metrics. \n",
        "\n",
        "Each model will be tested with two feature sets: bases set and full set. Base features are the ones included in *base* array:"
      ]
    },
    {
      "cell_type": "code",
      "metadata": {
        "id": "OLvtHRgxWe-A",
        "colab_type": "code",
        "colab": {}
      },
      "source": [
        "base = ['area', '1st_floor', 'last_floor', 'studio', 'station_dist',\n",
        "        'center_dist', 'circle', 'house_type', 'landlord_type']"
      ],
      "execution_count": 0,
      "outputs": []
    },
    {
      "cell_type": "markdown",
      "metadata": {
        "id": "fs0HFdI5pM3j",
        "colab_type": "text"
      },
      "source": [
        "Feature matrix with basic features will be called *X_base* and feature matrix with full set of features - just *X*. Target vectors corresponding to the base and full feature set will be called *y_base* and *y* respectevely. \n",
        "\n",
        "After dummy encoding 'block' becomes the basic level for *house_type* and 'agency' becomes the basic level for *landlord_type*:"
      ]
    },
    {
      "cell_type": "code",
      "metadata": {
        "id": "ipd-zjp3MtDx",
        "colab_type": "code",
        "colab": {}
      },
      "source": [
        "X_base = pd.get_dummies(df[base],\n",
        "                        columns=['house_type', 'landlord_type'],\n",
        "                        drop_first=True)"
      ],
      "execution_count": 0,
      "outputs": []
    },
    {
      "cell_type": "markdown",
      "metadata": {
        "id": "CwZmhNss4ITc",
        "colab_type": "text"
      },
      "source": [
        "# Linear Regression"
      ]
    },
    {
      "cell_type": "markdown",
      "metadata": {
        "id": "jK4yIRJ1pwHO",
        "colab_type": "text"
      },
      "source": [
        "For linear regression we will use log-linear form, i.e. *rent* will be log transformed while explanatory variables won't. The coefficients of the regression thus show what is a percentage change of rent in response to a unit change of a regressor. The sum of absolute values of residuals devided by number of observations is then approximately equal to MAPE. The estimator used is OLS with White error covariance matrix."
      ]
    },
    {
      "cell_type": "code",
      "metadata": {
        "id": "o0c4WQHmPK6W",
        "colab_type": "code",
        "colab": {}
      },
      "source": [
        "ln_y_base = np.log(df['rent'])"
      ],
      "execution_count": 0,
      "outputs": []
    },
    {
      "cell_type": "code",
      "metadata": {
        "id": "M21ycPV3PNfO",
        "colab_type": "code",
        "colab": {}
      },
      "source": [
        "#spliting log-target and feature matrix into train and test sets\n",
        "X_base_train, X_base_test, ln_y_base_train, ln_y_base_test = train_test_split(X_base, ln_y_base, \n",
        "                                                                              test_size=0.2,\n",
        "                                                                              random_state=123\n",
        "                                                                              )"
      ],
      "execution_count": 0,
      "outputs": []
    },
    {
      "cell_type": "markdown",
      "metadata": {
        "id": "rJ8PcnJfMHzB",
        "colab_type": "text"
      },
      "source": [
        "The first linear regression wil include the whole base feature set:"
      ]
    },
    {
      "cell_type": "code",
      "metadata": {
        "id": "NVNiwmiAImC9",
        "colab_type": "code",
        "outputId": "58202951-5a1e-4c2e-8d0d-bd7d5c615069",
        "colab": {
          "base_uri": "https://localhost:8080/",
          "height": 656
        }
      },
      "source": [
        "lin_base1 = (sm.OLS(ln_y_base_train, sm.add_constant(X_base_train))\n",
        "                .fit(cov_type='HC0'))\n",
        "print(lin_base1.summary())"
      ],
      "execution_count": 130,
      "outputs": [
        {
          "output_type": "stream",
          "text": [
            "                            OLS Regression Results                            \n",
            "==============================================================================\n",
            "Dep. Variable:                   rent   R-squared:                       0.520\n",
            "Model:                            OLS   Adj. R-squared:                  0.517\n",
            "Method:                 Least Squares   F-statistic:                     170.0\n",
            "Date:                Sun, 17 Nov 2019   Prob (F-statistic):          8.62e-288\n",
            "Time:                        16:47:57   Log-Likelihood:                 391.79\n",
            "No. Observations:                1860   AIC:                            -757.6\n",
            "Df Residuals:                    1847   BIC:                            -685.7\n",
            "Df Model:                          12                                         \n",
            "Covariance Type:                  HC0                                         \n",
            "===========================================================================================\n",
            "                              coef    std err          z      P>|z|      [0.025      0.975]\n",
            "-------------------------------------------------------------------------------------------\n",
            "const                       3.4254      0.042     81.223      0.000       3.343       3.508\n",
            "area                        0.0149      0.001     15.321      0.000       0.013       0.017\n",
            "1st_floor                  -0.0591      0.019     -3.135      0.002      -0.096      -0.022\n",
            "last_floor                 -0.0549      0.021     -2.572      0.010      -0.097      -0.013\n",
            "studio                      0.2775      0.024     11.519      0.000       0.230       0.325\n",
            "station_dist               -0.0090      0.001    -11.003      0.000      -0.011      -0.007\n",
            "center_dist                -0.0242      0.001    -22.507      0.000      -0.026      -0.022\n",
            "circle                      0.1222      0.032      3.776      0.000       0.059       0.186\n",
            "house_type_brick            0.0293      0.021      1.426      0.154      -0.011       0.069\n",
            "house_type_monolithic       0.1478      0.023      6.446      0.000       0.103       0.193\n",
            "house_type_panel           -0.0148      0.019     -0.793      0.428      -0.051       0.022\n",
            "landlord_type_developer     0.1039      0.039      2.652      0.008       0.027       0.181\n",
            "landlord_type_owner        -0.0061      0.010     -0.623      0.534      -0.025       0.013\n",
            "==============================================================================\n",
            "Omnibus:                       41.158   Durbin-Watson:                   1.924\n",
            "Prob(Omnibus):                  0.000   Jarque-Bera (JB):               58.741\n",
            "Skew:                           0.238   Prob(JB):                     1.76e-13\n",
            "Kurtosis:                       3.729   Cond. No.                         393.\n",
            "==============================================================================\n",
            "\n",
            "Warnings:\n",
            "[1] Standard Errors are heteroscedasticity robust (HC0)\n"
          ],
          "name": "stdout"
        }
      ]
    },
    {
      "cell_type": "markdown",
      "metadata": {
        "id": "2q5t2N0it_M6",
        "colab_type": "text"
      },
      "source": [
        "The model suggests that there is no significant difference (with other factors kept fixed) \n",
        "- between flats offered by owners and agencies\n",
        "- between flats in block and panel houses  "
      ]
    },
    {
      "cell_type": "markdown",
      "metadata": {
        "id": "MFsuhF-jw-YY",
        "colab_type": "text"
      },
      "source": [
        "To investigate how reasonable are these conclusions we observe the boxplots. Indeed, the distributions of rent per square metre for flats from owners and flats from agencies are very similar. Absence of difference between panel and block houses is not obvious, however there can be latent factors that depend on the house type but are missing in the dataset."
      ]
    },
    {
      "cell_type": "code",
      "metadata": {
        "id": "Psst3R7mt7zZ",
        "colab_type": "code",
        "colab": {
          "base_uri": "https://localhost:8080/",
          "height": 280
        },
        "outputId": "2378ef07-77a2-45e4-bd50-da478b2b48c4"
      },
      "source": [
        "plt.figure(figsize=(12, 4))\n",
        "plt.subplot(1, 2, 1)\n",
        "sb.boxplot(x=df['landlord_type'], y=df['rent']/df['area'])\n",
        "plt.ylabel('rent per square metre')\n",
        "plt.subplot(1, 2, 2)\n",
        "sb.boxplot(x=df['house_type'], y=df['rent']/df['area'])\n",
        "plt.show()"
      ],
      "execution_count": 161,
      "outputs": [
        {
          "output_type": "display_data",
          "data": {
            "image/png": "[encoded data removed]",
            "text/plain": [
              "<Figure size 864x288 with 2 Axes>"
            ]
          },
          "metadata": {
            "tags": []
          }
        }
      ]
    },
    {
      "cell_type": "markdown",
      "metadata": {
        "id": "YHuQFwObss3r",
        "colab_type": "text"
      },
      "source": [
        "Now we exclude the dummy variables *house_type_panel* and *landlord_type_owner*, which leads us to the second version of the model on base feature set. As we can see, R squared has not changed."
      ]
    },
    {
      "cell_type": "code",
      "metadata": {
        "id": "ks-rP_wdS2fy",
        "colab_type": "code",
        "outputId": "c780f107-0d44-44f5-c6df-b9027bf4cdf8",
        "colab": {
          "base_uri": "https://localhost:8080/",
          "height": 621
        }
      },
      "source": [
        "lin_base2 = sm.OLS(ln_y_base_train, sm.add_constant(X_base_train.drop(['house_type_panel', \n",
        "                                                                       'landlord_type_owner'], \n",
        "                                                                        axis=1\n",
        "                                                                        )\n",
        "                                                )\n",
        "                    ).fit(cov_type='HC0')\n",
        "print(lin_base2.summary())"
      ],
      "execution_count": 132,
      "outputs": [
        {
          "output_type": "stream",
          "text": [
            "                            OLS Regression Results                            \n",
            "==============================================================================\n",
            "Dep. Variable:                   rent   R-squared:                       0.520\n",
            "Model:                            OLS   Adj. R-squared:                  0.517\n",
            "Method:                 Least Squares   F-statistic:                     202.1\n",
            "Date:                Sun, 17 Nov 2019   Prob (F-statistic):          6.01e-288\n",
            "Time:                        16:47:58   Log-Likelihood:                 391.32\n",
            "No. Observations:                1860   AIC:                            -760.6\n",
            "Df Residuals:                    1849   BIC:                            -699.8\n",
            "Df Model:                          10                                         \n",
            "Covariance Type:                  HC0                                         \n",
            "===========================================================================================\n",
            "                              coef    std err          z      P>|z|      [0.025      0.975]\n",
            "-------------------------------------------------------------------------------------------\n",
            "const                       3.4123      0.040     84.343      0.000       3.333       3.492\n",
            "area                        0.0148      0.001     15.281      0.000       0.013       0.017\n",
            "1st_floor                  -0.0594      0.019     -3.141      0.002      -0.096      -0.022\n",
            "last_floor                 -0.0546      0.021     -2.551      0.011      -0.097      -0.013\n",
            "studio                      0.2772      0.024     11.453      0.000       0.230       0.325\n",
            "station_dist               -0.0090      0.001    -11.042      0.000      -0.011      -0.007\n",
            "center_dist                -0.0242      0.001    -22.925      0.000      -0.026      -0.022\n",
            "circle                      0.1218      0.032      3.766      0.000       0.058       0.185\n",
            "house_type_brick            0.0421      0.012      3.375      0.001       0.018       0.067\n",
            "house_type_monolithic       0.1609      0.015     10.415      0.000       0.131       0.191\n",
            "landlord_type_developer     0.1053      0.039      2.694      0.007       0.029       0.182\n",
            "==============================================================================\n",
            "Omnibus:                       41.776   Durbin-Watson:                   1.923\n",
            "Prob(Omnibus):                  0.000   Jarque-Bera (JB):               60.397\n",
            "Skew:                           0.237   Prob(JB):                     7.67e-14\n",
            "Kurtosis:                       3.745   Cond. No.                         367.\n",
            "==============================================================================\n",
            "\n",
            "Warnings:\n",
            "[1] Standard Errors are heteroscedasticity robust (HC0)\n"
          ],
          "name": "stdout"
        }
      ]
    },
    {
      "cell_type": "markdown",
      "metadata": {
        "id": "DBNGy6ekBXqn",
        "colab_type": "text"
      },
      "source": [
        "Now we save predictions of the model on the train and test data to compare its performance with a regression built on the full feature set:"
      ]
    },
    {
      "cell_type": "code",
      "metadata": {
        "id": "l0JaYemQ9vPR",
        "colab_type": "code",
        "colab": {}
      },
      "source": [
        "ln_y_base_train_pred = lin_base2.predict(sm.add_constant(X_base_train.drop(['house_type_panel',\n",
        "                                                                            'landlord_type_owner',\n",
        "                                                                            ], \n",
        "                                                                            axis=1\n",
        "                                                                            )\n",
        "                                                            )\n",
        "                                            )\n",
        "ln_y_base_test_pred = lin_base2.predict(sm.add_constant(X_base_test.drop(['house_type_panel',\n",
        "                                                                          'landlord_type_owner'\n",
        "                                                                         ], \n",
        "                                                                        axis=1\n",
        "                                                                        )\n",
        "                                                        )\n",
        "                                        )"
      ],
      "execution_count": 0,
      "outputs": []
    },
    {
      "cell_type": "markdown",
      "metadata": {
        "id": "uz1t7OWEBtkr",
        "colab_type": "text"
      },
      "source": [
        "The variables in *extra_params* list present features that will be added to the model. Their union with the base set constitutes full feature set."
      ]
    },
    {
      "cell_type": "code",
      "metadata": {
        "id": "p6bC3ByvsL-n",
        "colab_type": "code",
        "colab": {}
      },
      "source": [
        "extra_params = ['wifi', 'tv', 'fridge', 'stove', 'microwave', 'ac',\n",
        "                'wash_machine', 'balcony', 'parking']"
      ],
      "execution_count": 0,
      "outputs": []
    },
    {
      "cell_type": "markdown",
      "metadata": {
        "id": "VUSlF4gaCHLB",
        "colab_type": "text"
      },
      "source": [
        "For some observations extra parameters are missing - those are the rows where all extra parameters are equal to 0. We now remove them from the dataset,"
      ]
    },
    {
      "cell_type": "code",
      "metadata": {
        "id": "uNGoVY5zDNK1",
        "colab_type": "code",
        "colab": {}
      },
      "source": [
        "df2 = df[df.apply(lambda l: any(l[extra_params]) == True,\n",
        "                  axis=1)\n",
        "        ]"
      ],
      "execution_count": 0,
      "outputs": []
    },
    {
      "cell_type": "markdown",
      "metadata": {
        "id": "Of4eWBoRCb6x",
        "colab_type": "text"
      },
      "source": [
        "and find subsets of X_base and y_base where extra parameters are not missing:"
      ]
    },
    {
      "cell_type": "code",
      "metadata": {
        "id": "pRQOjqyFoWzS",
        "colab_type": "code",
        "colab": {}
      },
      "source": [
        "train_ind = X_base_train.index.intersection(df2.index)\n",
        "test_ind = X_base_test.index.intersection(df2.index)\n",
        "ln_y_train = ln_y_base_train.loc[train_ind]\n",
        "ln_y_test = ln_y_base_test.loc[test_ind]\n",
        "X_train = pd.get_dummies(df2.loc[train_ind].drop('rent', axis=1),\n",
        "                         columns=['house_type', 'landlord_type'],\n",
        "                         drop_first=True)\n",
        "X_test = pd.get_dummies(df2.loc[test_ind].drop('rent', axis=1),\n",
        "                        columns=['house_type', 'landlord_type'],\n",
        "                        drop_first=True)                        "
      ],
      "execution_count": 0,
      "outputs": []
    },
    {
      "cell_type": "markdown",
      "metadata": {
        "id": "jY5CKwtOC14Q",
        "colab_type": "text"
      },
      "source": [
        "After removing observations with missing extra parameters both train and test sets got shrunk by around 40%:"
      ]
    },
    {
      "cell_type": "code",
      "metadata": {
        "id": "hcTum2S0I7aJ",
        "colab_type": "code",
        "outputId": "8665c03b-064d-4932-a555-70a8cb91dc31",
        "colab": {
          "base_uri": "https://localhost:8080/",
          "height": 52
        }
      },
      "source": [
        "print(X_base_train.shape, X_train.shape)\n",
        "print(X_base_test.shape, X_test.shape)"
      ],
      "execution_count": 138,
      "outputs": [
        {
          "output_type": "stream",
          "text": [
            "(1860, 12) (1329, 21)\n",
            "(465, 12) (332, 21)\n"
          ],
          "name": "stdout"
        }
      ]
    },
    {
      "cell_type": "markdown",
      "metadata": {
        "id": "xMpHzQeSD50v",
        "colab_type": "text"
      },
      "source": [
        "The first regression on full feature set (excluding variables that were found to be not significant):"
      ]
    },
    {
      "cell_type": "code",
      "metadata": {
        "id": "dHYri9KtKxM_",
        "colab_type": "code",
        "outputId": "e61e2e70-efde-40f2-ef90-0d2d7109bc9d",
        "colab": {
          "base_uri": "https://localhost:8080/",
          "height": 781
        }
      },
      "source": [
        "lin1 = sm.OLS(ln_y_train, sm.add_constant(X_train.drop(['house_type_panel',\n",
        "                                                        'landlord_type_owner',], \n",
        "                                                        axis=1\n",
        "                                                        )\n",
        "                                            )\n",
        "                ).fit(cov_type='HC0')\n",
        "print(lin1.summary())"
      ],
      "execution_count": 139,
      "outputs": [
        {
          "output_type": "stream",
          "text": [
            "                            OLS Regression Results                            \n",
            "==============================================================================\n",
            "Dep. Variable:                   rent   R-squared:                       0.585\n",
            "Model:                            OLS   Adj. R-squared:                  0.579\n",
            "Method:                 Least Squares   F-statistic:                     104.6\n",
            "Date:                Sun, 17 Nov 2019   Prob (F-statistic):          3.81e-246\n",
            "Time:                        16:48:00   Log-Likelihood:                 402.87\n",
            "No. Observations:                1329   AIC:                            -765.7\n",
            "Df Residuals:                    1309   BIC:                            -661.9\n",
            "Df Model:                          19                                         \n",
            "Covariance Type:                  HC0                                         \n",
            "===========================================================================================\n",
            "                              coef    std err          z      P>|z|      [0.025      0.975]\n",
            "-------------------------------------------------------------------------------------------\n",
            "const                       3.4455      0.059     58.279      0.000       3.330       3.561\n",
            "area                        0.0132      0.001     12.970      0.000       0.011       0.015\n",
            "1st_floor                  -0.0841      0.023     -3.716      0.000      -0.129      -0.040\n",
            "last_floor                 -0.0368      0.020     -1.817      0.069      -0.076       0.003\n",
            "studio                      0.2344      0.026      8.850      0.000       0.182       0.286\n",
            "station_dist               -0.0076      0.001     -8.522      0.000      -0.009      -0.006\n",
            "center_dist                -0.0211      0.001    -19.821      0.000      -0.023      -0.019\n",
            "circle                      0.0811      0.033      2.437      0.015       0.016       0.146\n",
            "fridge                     -0.0083      0.039     -0.212      0.832      -0.085       0.068\n",
            "ac                          0.1112      0.013      8.843      0.000       0.087       0.136\n",
            "balcony                    -0.0627      0.012     -5.028      0.000      -0.087      -0.038\n",
            "microwave                   0.0188      0.011      1.661      0.097      -0.003       0.041\n",
            "parking                     0.0235      0.014      1.685      0.092      -0.004       0.051\n",
            "stove                      -0.0481      0.016     -2.957      0.003      -0.080      -0.016\n",
            "tv                          0.0361      0.011      3.182      0.001       0.014       0.058\n",
            "wash_machine                0.0178      0.027      0.665      0.506      -0.035       0.070\n",
            "wifi                        0.0184      0.011      1.648      0.099      -0.003       0.040\n",
            "house_type_brick            0.0442      0.014      3.187      0.001       0.017       0.071\n",
            "house_type_monolithic       0.1297      0.016      8.181      0.000       0.099       0.161\n",
            "landlord_type_developer     0.0777      0.033      2.380      0.017       0.014       0.142\n",
            "==============================================================================\n",
            "Omnibus:                       34.552   Durbin-Watson:                   1.980\n",
            "Prob(Omnibus):                  0.000   Jarque-Bera (JB):               43.924\n",
            "Skew:                           0.304   Prob(JB):                     2.90e-10\n",
            "Kurtosis:                       3.651   Cond. No.                         498.\n",
            "==============================================================================\n",
            "\n",
            "Warnings:\n",
            "[1] Standard Errors are heteroscedasticity robust (HC0)\n"
          ],
          "name": "stdout"
        }
      ]
    },
    {
      "cell_type": "markdown",
      "metadata": {
        "id": "0ft28BbIEUD6",
        "colab_type": "text"
      },
      "source": [
        "From regression statistics we can see that adding extra parameters does not increase R squared much. We remove the variables *fridge* and *wash_machine* as having high p-values. Now, the second version of the model on the (reduced) full feature set:"
      ]
    },
    {
      "cell_type": "code",
      "metadata": {
        "id": "sIWQ7yxILDsl",
        "colab_type": "code",
        "colab": {
          "base_uri": "https://localhost:8080/",
          "height": 745
        },
        "outputId": "c09555e9-20f1-4dbb-a3a4-07956553c2a5"
      },
      "source": [
        "lin2 = sm.OLS(ln_y_train, sm.add_constant(X_train.drop(['house_type_panel', \n",
        "                                                        'landlord_type_owner',\n",
        "                                                        'fridge',\n",
        "                                                        'wash_machine'\n",
        "                                                        ], \n",
        "                                                        axis=1\n",
        "                                                        )\n",
        "                                            )\n",
        "                ).fit(cov_type='HC0')\n",
        "print(lin2.summary())"
      ],
      "execution_count": 140,
      "outputs": [
        {
          "output_type": "stream",
          "text": [
            "                            OLS Regression Results                            \n",
            "==============================================================================\n",
            "Dep. Variable:                   rent   R-squared:                       0.584\n",
            "Model:                            OLS   Adj. R-squared:                  0.579\n",
            "Method:                 Least Squares   F-statistic:                     116.7\n",
            "Date:                Sun, 17 Nov 2019   Prob (F-statistic):          8.55e-248\n",
            "Time:                        16:48:00   Log-Likelihood:                 402.70\n",
            "No. Observations:                1329   AIC:                            -769.4\n",
            "Df Residuals:                    1311   BIC:                            -675.9\n",
            "Df Model:                          17                                         \n",
            "Covariance Type:                  HC0                                         \n",
            "===========================================================================================\n",
            "                              coef    std err          z      P>|z|      [0.025      0.975]\n",
            "-------------------------------------------------------------------------------------------\n",
            "const                       3.4531      0.044     78.723      0.000       3.367       3.539\n",
            "area                        0.0132      0.001     13.050      0.000       0.011       0.015\n",
            "1st_floor                  -0.0843      0.023     -3.721      0.000      -0.129      -0.040\n",
            "last_floor                 -0.0370      0.020     -1.832      0.067      -0.076       0.003\n",
            "studio                      0.2350      0.026      8.869      0.000       0.183       0.287\n",
            "station_dist               -0.0076      0.001     -8.519      0.000      -0.009      -0.006\n",
            "center_dist                -0.0211      0.001    -19.862      0.000      -0.023      -0.019\n",
            "circle                      0.0814      0.033      2.446      0.014       0.016       0.147\n",
            "ac                          0.1111      0.013      8.846      0.000       0.087       0.136\n",
            "balcony                    -0.0624      0.012     -4.999      0.000      -0.087      -0.038\n",
            "microwave                   0.0192      0.011      1.708      0.088      -0.003       0.041\n",
            "parking                     0.0230      0.014      1.653      0.098      -0.004       0.050\n",
            "stove                      -0.0476      0.016     -2.927      0.003      -0.079      -0.016\n",
            "tv                          0.0363      0.011      3.199      0.001       0.014       0.059\n",
            "wifi                        0.0189      0.011      1.708      0.088      -0.003       0.041\n",
            "house_type_brick            0.0437      0.014      3.151      0.002       0.017       0.071\n",
            "house_type_monolithic       0.1296      0.016      8.179      0.000       0.099       0.161\n",
            "landlord_type_developer     0.0768      0.033      2.358      0.018       0.013       0.141\n",
            "==============================================================================\n",
            "Omnibus:                       34.565   Durbin-Watson:                   1.980\n",
            "Prob(Omnibus):                  0.000   Jarque-Bera (JB):               43.995\n",
            "Skew:                           0.304   Prob(JB):                     2.80e-10\n",
            "Kurtosis:                       3.652   Cond. No.                         367.\n",
            "==============================================================================\n",
            "\n",
            "Warnings:\n",
            "[1] Standard Errors are heteroscedasticity robust (HC0)\n"
          ],
          "name": "stdout"
        }
      ]
    },
    {
      "cell_type": "markdown",
      "metadata": {
        "id": "B1PGzQlfFSK4",
        "colab_type": "text"
      },
      "source": [
        "Again, deleting variables does not lead to R squared decreasing. "
      ]
    },
    {
      "cell_type": "code",
      "metadata": {
        "id": "VuZM1W_fU1LD",
        "colab_type": "code",
        "colab": {}
      },
      "source": [
        "\n",
        "ln_y_train_pred = lin2.predict(sm.add_constant(X_train.drop(['house_type_panel', \n",
        "                                                             'landlord_type_owner',\n",
        "                                                             'fridge',\n",
        "                                                             'wash_machine'\n",
        "                                                            ],\n",
        "                                                            axis=1\n",
        "                                                            )\n",
        "                                            )\n",
        "                            )"
      ],
      "execution_count": 0,
      "outputs": []
    },
    {
      "cell_type": "code",
      "metadata": {
        "id": "48MuE-nN2RWH",
        "colab_type": "code",
        "colab": {}
      },
      "source": [
        "ln_y_test_pred = lin2.predict(sm.add_constant(X_test.drop(['house_type_panel', \n",
        "                                                           'landlord_type_owner',\n",
        "                                                           'fridge',\n",
        "                                                           'wash_machine'], \n",
        "                                                            axis=1\n",
        "                                                        )\n",
        "                                        )\n",
        "                        )"
      ],
      "execution_count": 0,
      "outputs": []
    },
    {
      "cell_type": "markdown",
      "metadata": {
        "id": "lFEXZUyQuV8Z",
        "colab_type": "text"
      },
      "source": [
        "Interestingly, the model suggests that a studio flat will cost more than similar flat of nonstudio type, which is somewhat counterintuitive. This however is what the data tell us (see the boxplot below). The cause might be in some properties that are inherent to studio flats but absent in our data. For example, it is possible that studios tend to be in newer houses or have better repairs. If so, there are missing variables in our model and obtained estimates are likely to be biased. That can explain why *stove* variable has negative coefficient, which contradicts common sense. "
      ]
    },
    {
      "cell_type": "code",
      "metadata": {
        "id": "9V-K5bYsuBjZ",
        "colab_type": "code",
        "colab": {
          "base_uri": "https://localhost:8080/",
          "height": 278
        },
        "outputId": "1ddf49af-9005-4a7d-8700-0aebe7d4457c"
      },
      "source": [
        "sb.boxplot(x=df['studio'], y=df['rent']/df['area'])\n",
        "plt.ylabel('rent per square metre')\n",
        "plt.show()"
      ],
      "execution_count": 160,
      "outputs": [
        {
          "output_type": "display_data",
          "data": {
            "image/png": "[encoded data removed]",
            "text/plain": [
              "<Figure size 432x288 with 1 Axes>"
            ]
          },
          "metadata": {
            "tags": []
          }
        }
      ]
    },
    {
      "cell_type": "markdown",
      "metadata": {
        "id": "NWmym1u2ZSWq",
        "colab_type": "text"
      },
      "source": [
        "We  will now compare MAE and MAPE (in terms of source non-logged target) of the linear models built on the base and test feature sets."
      ]
    },
    {
      "cell_type": "code",
      "metadata": {
        "id": "SwUo3R2dV6j_",
        "colab_type": "code",
        "colab": {}
      },
      "source": [
        "#computing metrics for regression on the base feature set\n",
        "lin_base_train_scores = {}\n",
        "lin_base_train_scores['MAE'] = round(mae(np.exp(ln_y_base_train), np.exp(ln_y_base_train_pred)),\n",
        "                                     2)\n",
        "lin_base_train_scores['MAPE'] = round(mae(ln_y_base_train, ln_y_base_train_pred),\n",
        "                                     2)\n",
        "lin_base_test_scores = {}\n",
        "lin_base_test_scores['MAE'] = round(mae(np.exp(ln_y_base_test), np.exp(ln_y_base_test_pred)),\n",
        "                                    2)\n",
        "lin_base_test_scores['MAPE'] = round(mae(ln_y_base_train, ln_y_base_train_pred),\n",
        "                                     2)"
      ],
      "execution_count": 0,
      "outputs": []
    },
    {
      "cell_type": "code",
      "metadata": {
        "id": "SH90-qk7CJAY",
        "colab_type": "code",
        "colab": {}
      },
      "source": [
        "#computing metrics for regression on the full feture set\n",
        "lin_train_scores = {}\n",
        "lin_train_scores['MAE'] = round(mae(np.exp(ln_y_train_pred), np.exp(ln_y_train)),\n",
        "                                2)\n",
        "lin_train_scores['MAPE'] = round(mae((ln_y_train_pred), (ln_y_train)),\n",
        "                                 2)\n",
        "lin_test_scores = {}\n",
        "lin_test_scores['MAE'] = round(mae(np.exp(ln_y_test_pred), np.exp(ln_y_test)),\n",
        "                                    2)\n",
        "lin_test_scores['MAPE'] = round(mae(ln_y_test_pred, ln_y_test),\n",
        "                                2)"
      ],
      "execution_count": 0,
      "outputs": []
    },
    {
      "cell_type": "markdown",
      "metadata": {
        "id": "e627B9ztDuix",
        "colab_type": "text"
      },
      "source": [
        "The results show that adding extra parameters to the base set does not significantly improve regression performance. Although 14% MAPE is not bad anyway."
      ]
    },
    {
      "cell_type": "code",
      "metadata": {
        "id": "-f9LIx5oVOZT",
        "colab_type": "code",
        "colab": {
          "base_uri": "https://localhost:8080/",
          "height": 176
        },
        "outputId": "47888ed2-908d-4bf4-cd3c-f2516e878c6e"
      },
      "source": [
        "print(\n",
        "'Linear regresion results \\n\\n'\n",
        "'Base feature set \\n'\n",
        "'train: ', lin_base_train_scores,'\\n'\n",
        "'test:  ', lin_base_test_scores,'\\n\\n'\n",
        "'Full feature set \\n'\n",
        "'train: ', lin_train_scores,'\\n'\n",
        "'test:  ', lin_test_scores\n",
        ")"
      ],
      "execution_count": 145,
      "outputs": [
        {
          "output_type": "stream",
          "text": [
            "Linear regresion results \n",
            "\n",
            "Base feature set \n",
            "train:  {'MAE': 6.25, 'MAPE': 0.15} \n",
            "test:   {'MAE': 6.08, 'MAPE': 0.15} \n",
            "\n",
            "Full feature set \n",
            "train:  {'MAE': 5.87, 'MAPE': 0.14} \n",
            "test:   {'MAE': 5.91, 'MAPE': 0.14}\n"
          ],
          "name": "stdout"
        }
      ]
    },
    {
      "cell_type": "markdown",
      "metadata": {
        "id": "UU7p_SRi0Bwh",
        "colab_type": "text"
      },
      "source": [
        "# Random forest\n",
        "For random forest (rf) we will use *rent* as is (without taking log). The number of observations we have is quite small, so we will try to prevent overfitting by varying *min_samples_leaf* parameter, which will be selected based on 4-fold cross validation. "
      ]
    },
    {
      "cell_type": "code",
      "metadata": {
        "id": "RfXKafHzCgnY",
        "colab_type": "code",
        "colab": {}
      },
      "source": [
        "y_base_train = df.loc[ln_y_base_train.index, 'rent']\n",
        "y_base_test = df.loc[ln_y_base_test.index, 'rent']"
      ],
      "execution_count": 0,
      "outputs": []
    },
    {
      "cell_type": "code",
      "metadata": {
        "id": "kOYJTM-gAaVO",
        "colab_type": "code",
        "colab": {
          "base_uri": "https://localhost:8080/",
          "height": 336
        },
        "outputId": "c71aa415-5f9d-4e15-a9ae-2043634ee9af"
      },
      "source": [
        "#fitting rf on the base feature set\n",
        "rf_base_cv = GridSearchCV(RandomForestRegressor(criterion='mae'),\n",
        "                            {'min_samples_leaf': list(range(1, 100, 5)),\n",
        "                             'n_estimators': [50, 100, 150, 200]\n",
        "                            },\n",
        "                            cv=4,\n",
        "                            n_jobs=-1\n",
        "                        )\n",
        "rf_base_cv.fit(X_base_train, y_base_train)"
      ],
      "execution_count": 147,
      "outputs": [
        {
          "output_type": "execute_result",
          "data": {
            "text/plain": [
              "GridSearchCV(cv=4, error_score='raise-deprecating',\n",
              "             estimator=RandomForestRegressor(bootstrap=True, criterion='mae',\n",
              "                                             max_depth=None,\n",
              "                                             max_features='auto',\n",
              "                                             max_leaf_nodes=None,\n",
              "                                             min_impurity_decrease=0.0,\n",
              "                                             min_impurity_split=None,\n",
              "                                             min_samples_leaf=1,\n",
              "                                             min_samples_split=2,\n",
              "                                             min_weight_fraction_leaf=0.0,\n",
              "                                             n_estimators='warn', n_jobs=None,\n",
              "                                             oob_score=False, random_state=None,\n",
              "                                             verbose=0, warm_start=False),\n",
              "             iid='warn', n_jobs=-1,\n",
              "             param_grid={'min_samples_leaf': [1, 2, 3, 4, 5, 6, 7, 8, 9],\n",
              "                         'n_estimators': [50, 100, 150, 2000]},\n",
              "             pre_dispatch='2*n_jobs', refit=True, return_train_score=False,\n",
              "             scoring=None, verbose=0)"
            ]
          },
          "metadata": {
            "tags": []
          },
          "execution_count": 147
        }
      ]
    },
    {
      "cell_type": "code",
      "metadata": {
        "id": "Xcg70rna21pe",
        "colab_type": "code",
        "colab": {}
      },
      "source": [
        "def mape(y_true, y_pred):\n",
        "    return (np.abs(y_true-y_pred)/np.abs(y_true)).sum()/len(y_true)"
      ],
      "execution_count": 0,
      "outputs": []
    },
    {
      "cell_type": "code",
      "metadata": {
        "id": "gW5NBx2qGHgx",
        "colab_type": "code",
        "colab": {}
      },
      "source": [
        "y_train = df.loc[ln_y_train.index, 'rent']\n",
        "y_test = df.loc[ln_y_test.index, 'rent']"
      ],
      "execution_count": 0,
      "outputs": []
    },
    {
      "cell_type": "code",
      "metadata": {
        "id": "WHyPCsWFIaXH",
        "colab_type": "code",
        "colab": {}
      },
      "source": [
        "#fitting rf on the full feature set\n",
        "rf_cv = GridSearchCV(RandomForestRegressor(criterion='mae'),\n",
        "                    {'min_samples_leaf': list(range(1, 150, 5)),\n",
        "                     'n_estimators': [50, 100, 150, 200]\n",
        "                    },\n",
        "                    cv=4,\n",
        "                    n_jobs=-1\n",
        "                    )"
      ],
      "execution_count": 0,
      "outputs": []
    },
    {
      "cell_type": "code",
      "metadata": {
        "id": "Z7LBnvxRIgdj",
        "colab_type": "code",
        "colab": {
          "base_uri": "https://localhost:8080/",
          "height": 390
        },
        "outputId": "0def4a8a-ffd4-478e-ea2d-718bd5515bc5"
      },
      "source": [
        "rf_cv.fit(X_train, y_train)"
      ],
      "execution_count": 152,
      "outputs": [
        {
          "output_type": "execute_result",
          "data": {
            "text/plain": [
              "GridSearchCV(cv=4, error_score='raise-deprecating',\n",
              "             estimator=RandomForestRegressor(bootstrap=True, criterion='mae',\n",
              "                                             max_depth=None,\n",
              "                                             max_features='auto',\n",
              "                                             max_leaf_nodes=None,\n",
              "                                             min_impurity_decrease=0.0,\n",
              "                                             min_impurity_split=None,\n",
              "                                             min_samples_leaf=1,\n",
              "                                             min_samples_split=2,\n",
              "                                             min_weight_fraction_leaf=0.0,\n",
              "                                             n_estimators='warn', n_jobs=None,\n",
              "                                             oob_score=False, random_state=None,\n",
              "                                             verbose=0, warm_start=False),\n",
              "             iid='warn', n_jobs=-1,\n",
              "             param_grid={'min_samples_leaf': [5, 10, 15, 20, 25, 30, 35, 40, 45,\n",
              "                                              50, 55, 60, 65, 70, 75, 80, 85,\n",
              "                                              90, 95, 100, 105, 110, 115, 120,\n",
              "                                              125, 130, 135, 140, 145],\n",
              "                         'n_estimators': [50, 100, 150, 200, 500]},\n",
              "             pre_dispatch='2*n_jobs', refit=True, return_train_score=False,\n",
              "             scoring=None, verbose=0)"
            ]
          },
          "metadata": {
            "tags": []
          },
          "execution_count": 152
        }
      ]
    },
    {
      "cell_type": "code",
      "metadata": {
        "id": "sU-5cvzWh3vv",
        "colab_type": "code",
        "colab": {}
      },
      "source": [
        "rf_base_train_scores = {}\n",
        "rf_base_train_scores['MAE'] = round(mae(rf_cv.predict(X_train), y_train), 2)\n",
        "rf_base_train_scores['MAPE'] = round(mape(rf_cv.predict(X_train), y_train), 2)\n",
        "rf_base_test_scores = {}\n",
        "rf_base_test_scores['MAE'] = round(mae(rf_cv.predict(X_test), y_test), 2)\n",
        "rf_base_test_scores['MAPE'] = round(mape(rf_cv.predict(X_test), y_test), 2)\n",
        "rf_train_scores = {}\n",
        "rf_train_scores['MAE'] = round(mae(rf_cv.predict(X_train), y_train), 2)\n",
        "rf_train_scores['MAPE'] = round(mape(rf_cv.predict(X_train), y_train), 2)\n",
        "rf_test_scores = {}\n",
        "rf_test_scores['MAE'] = round(mae(rf_cv.predict(X_test), y_test), 2)\n",
        "rf_test_scores['MAPE'] = round(mape(rf_cv.predict(X_test), y_test), 2)"
      ],
      "execution_count": 0,
      "outputs": []
    },
    {
      "cell_type": "markdown",
      "metadata": {
        "id": "jnH2PGopAI4a",
        "colab_type": "text"
      },
      "source": [
        "Metrics say that rf overfitted a bit stronger than linear regression and shows similar quality on the test set. Again, adding extra variables to the base feature set was not very helpful."
      ]
    },
    {
      "cell_type": "code",
      "metadata": {
        "id": "DGoL2Lv7C9la",
        "colab_type": "code",
        "colab": {
          "base_uri": "https://localhost:8080/",
          "height": 176
        },
        "outputId": "5e9644a9-6e67-4629-f698-52bc4dc1a02b"
      },
      "source": [
        "print(\n",
        "'Random forest results \\n\\n'\n",
        "'Base feature set \\n'\n",
        "'train: ', rf_base_train_scores,'\\n'\n",
        "'test:  ', rf_base_test_scores,'\\n\\n'\n",
        "'Full feature set \\n'\n",
        "'train: ', rf_train_scores,'\\n'\n",
        "'test:  ', rf_test_scores,\n",
        ")"
      ],
      "execution_count": 162,
      "outputs": [
        {
          "output_type": "stream",
          "text": [
            "Random forest results \n",
            "\n",
            "Base feature set \n",
            "train:  {'MAE': 4.44, 'MAPE': 0.11} \n",
            "test:   {'MAE': 5.87, 'MAPE': 0.14} \n",
            "\n",
            "Full feature set \n",
            "train:  {'MAE': 4.45, 'MAPE': 0.11} \n",
            "test:   {'MAE': 5.89, 'MAPE': 0.14}\n"
          ],
          "name": "stdout"
        }
      ]
    },
    {
      "cell_type": "markdown",
      "metadata": {
        "id": "N0zGMefZAhK2",
        "colab_type": "text"
      },
      "source": [
        "Now we plot estimates predicted by rf versus actual rent prices:"
      ]
    },
    {
      "cell_type": "code",
      "metadata": {
        "id": "EY4IVg8JlZlB",
        "colab_type": "code",
        "colab": {
          "base_uri": "https://localhost:8080/",
          "height": 278
        },
        "outputId": "6a3a695f-888c-4ea4-87c7-dd4804fca4d9"
      },
      "source": [
        "sb.scatterplot(x=y_train, y=rf_cv.predict(X_train))\n",
        "plt.plot(sorted(y_train), sorted(y_train), color='green')  \n",
        "plt.show()"
      ],
      "execution_count": 156,
      "outputs": [
        {
          "output_type": "display_data",
          "data": {
            "image/png": "[encoded data removed]",
            "text/plain": [
              "<Figure size 432x288 with 1 Axes>"
            ]
          },
          "metadata": {
            "tags": []
          }
        }
      ]
    },
    {
      "cell_type": "markdown",
      "metadata": {
        "id": "tCabhDw_BXxM",
        "colab_type": "text"
      },
      "source": [
        "The graph shows that the model stably underpredicts rent prices for flats with rental cost above 50 thousand. It means that rent price of such apartments is influenced by factors that are not present in our dataset."
      ]
    }
  ]
}